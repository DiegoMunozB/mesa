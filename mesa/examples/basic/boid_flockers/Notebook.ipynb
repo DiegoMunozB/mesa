{
 "cells": [
  {
   "cell_type": "markdown",
   "id": "b0005762",
   "metadata": {},
   "source": [
    "## Introduction"
   ]
  },
  {
   "cell_type": "markdown",
   "id": "009162d4",
   "metadata": {},
   "source": [
    "**Purpose**:  \n",
    "This project explores the implementation of a multi-agent system using the **Boids** simulation model. The main goal is to understand how the key behaviors—**Cohesion**, **Separation**, and **Alignment**—affect the interactions and movement of agents (Boids) in a flock, specifically how they influence the number of collisions (or crashes) between the agents.\n",
    "\n",
    "**Key Concepts**:  \n",
    "The Boids algorithm, developed by Craig Reynolds, simulates flocking behavior by modeling agents that follow three primary behaviors:\n",
    "- **Cohesion**: Boids tend to move towards the average position of their neighbors, creating the attraction needed to form a flock.\n",
    "- **Separation**: Boids avoid getting too close to each other, preventing overcrowding and potential crashes.\n",
    "- **Alignment**: Boids align their velocity with their neighbors, ensuring smooth and coordinated movement.\n",
    "\n",
    "**Scope**:  \n",
    "- **Model Setup**: Boid agents are created and placed randomly in a 2D space. Each Boid follows the three behaviors based on the positions and velocities of its neighbors.\n",
    "- **Data Collection**: The simulation collects data on the number of crashes (collisions) between Boids over time.\n",
    "- **Behavior Weights**: The weights of each behavior (Cohesion, Separation, Alignment) are varied in different simulation runs to examine their effect on the number of crashes.\n",
    "- **Batch Simulation**: A batch run is used to collect statistical data over multiple simulation runs to ensure a robust analysis.\n",
    "\n",
    "**Analysis**:  \n",
    "The project will analyze how changes in the weights of the three behaviors affect the overall flock behavior and the frequency of collisions. This helps in understanding the balance needed between attraction, avoidance, and alignment for stable flock formation without collisions.\n",
    "\n",
    "**Expected Outcome**:  \n",
    "- Determine how adjusting the weights of each behavior affects the number of crashes between Boid agents.\n",
    "- Understand the interplay between **Cohesion**, **Separation**, and **Alignment** in the context of flocking behavior.\n",
    "  \n",
    "This report will present findings based on the results of multiple simulation runs, offering insights into the dynamics of a multi-agent system in the Boids model."
   ]
  },
  {
   "cell_type": "markdown",
   "id": "888124ea",
   "metadata": {},
   "source": [
    "##  Boid Agent Explanation\n",
    "\n",
    "Implementation of the **Boid agent** and how it exhibits the three primary behaviors—**Cohesion**, **Separation**, and **Alignment**—to simulate flocking. Each Boid interacts with its neighboring agents to adjust its direction and maintain cohesion within the flock. Below is an explanation of each behavior and how it is implemented in the Boid agent class.\n",
    "\n",
    "Each Boid calculates the heading to its neighboring Boids and adjusts its direction accordingly, pulling it closer to the center of the flock."
   ]
  },
  {
   "cell_type": "markdown",
   "id": "8dbe8b42",
   "metadata": {},
   "source": [
    "### **Cohesion**:\n",
    "The **Cohesion** behavior causes each Boid to steer towards the average position of its neighbors. The goal is to bring the Boid closer to the center of the flock, encouraging the Boid to \"flock together\" rather than moving alone. This behavior is implemented by calculating the heading (direction towards) of the average position of all the Boid's neighbors:\n",
    "\n",
    "```python\n",
    "cohere += heading  # Move towards the center of the neighbors\n",
    "```"
   ]
  },
  {
   "cell_type": "markdown",
   "id": "3b8227e5",
   "metadata": {},
   "source": [
    "### **Separation**:\n",
    "The **Separation** behavior ensures that Boids maintain a minimum distance from each other to avoid overcrowding or crashes. If two Boids get too close to one another (i.e., within the defined separation distance), the Boid will steer away from its neighbor. This is implemented by checking the distance between the current Boid and each of its neighbors:\n",
    "\n",
    "```python\n",
    "if distance < self.separation:\n",
    "    separation_vector -= heading  # Move away from the neighbor\n",
    "    self.crash_count += 1  # Track the number of crashes\n",
    "```\n",
    "\n",
    "When the distance between two Boids is less than the minimum separation distance, the Boid adjusts its movement away from its neighbor, ensuring that the Boids do not collide."
   ]
  },
  {
   "cell_type": "markdown",
   "id": "1c9104ea",
   "metadata": {},
   "source": [
    "### **Alignment**:\n",
    "The **Alignment** behavior encourages Boids to align their velocity with the average direction of their neighbors. This results in Boids flying in the same direction as their neighbors, creating a smooth and coordinated movement for the flock. The implementation calculates the average direction of all neighboring Boids and adjusts the Boid’s heading accordingly:\n",
    "\n",
    "```python\n",
    "match_vector += neighbor.direction  # Align with the neighbor's direction\n",
    "```\n",
    "\n",
    "By adjusting its direction to match the average heading of its neighbors, the Boid aligns itself with the rest of the flock, contributing to the overall cohesion of the group."
   ]
  },
  {
   "cell_type": "markdown",
   "id": "4dc90608",
   "metadata": {},
   "source": [
    "### Summary of Boid Agent's `step()` Method\n",
    "\n",
    "Each time the **`step()`** method is called:\n",
    "1. **Cohesion**: The Boid steers towards the average position of its neighbors to maintain flock formation.\n",
    "2. **Separation**: The Boid avoids collisions by steering away from nearby Boids when they get too close.\n",
    "3. **Alignment**: The Boid aligns its velocity with its neighbors to ensure coordinated movement.\n",
    "\n",
    "These three behaviors are combined by weighting each behavior and updating the Boid’s direction accordingly. After calculating the new direction, the Boid moves to its new position in the 2D space:\n",
    "\n",
    "```python\n",
    "self.direction += (cohere + separation_vector + match_vector) / n\n",
    "self.direction /= np.linalg.norm(self.direction)  # Normalize the direction\n",
    "\n",
    "new_pos = self.pos + self.direction * self.speed  # Update position\n",
    "self.model.space.move_agent(self, new_pos)\n",
    "```\n",
    "\n",
    "The combination of these behaviors allows the Boid to dynamically adjust its position and velocity, interacting with other Boids in the environment to create realistic flocking behavior."
   ]
  },
  {
   "cell_type": "markdown",
   "id": "8efe23a4",
   "metadata": {},
   "source": [
    "## Data Analysis - Boids Model"
   ]
  },
  {
   "cell_type": "markdown",
   "id": "de2dbaf8",
   "metadata": {},
   "source": [
    "The code implements a Boid simulation using the Mesa framework, which is a powerful agent-based modeling library in Python. In this simulation, we model the flocking behavior of Boids—simple agents that follow three primary behaviors: Cohesion, Separation, and Alignment. These behaviors allow the agents to interact with each other and simulate a realistic flocking system where agents move in coordination with their neighbors while avoiding collisions."
   ]
  },
  {
   "cell_type": "markdown",
   "id": "90fb73c8",
   "metadata": {},
   "source": [
    "### - Libraries\n",
    "\n"
   ]
  },
  {
   "cell_type": "code",
   "execution_count": 2,
   "id": "736d91ac",
   "metadata": {},
   "outputs": [],
   "source": [
    "import numpy as np\n",
    "from mesa import Agent, Model\n",
    "from mesa.space import ContinuousSpace\n",
    "from mesa.datacollection import DataCollector\n",
    "from mesa.batchrunner import batch_run\n",
    "import matplotlib.pyplot as plt\n",
    "import pandas as pd"
   ]
  },
  {
   "cell_type": "markdown",
   "id": "fbfdc353",
   "metadata": {},
   "source": [
    "### - **Define the Boid Agent Class**"
   ]
  },
  {
   "cell_type": "markdown",
   "id": "6c02fa71",
   "metadata": {},
   "source": [
    "The **Boid Agent** class models an individual agent in the simulation. Each Boid follows three primary behaviors to interact with its environment and other agents: **Cohesion**, **Separation**, and **Alignment**.\n",
    "\n",
    "+ **Cohesion**: This behavior causes the Boid to steer towards the average position of its neighbors, helping it stay close to the rest of the flock. The Boid moves towards the center of the group to maintain a cohesive structure.\n",
    "  \n",
    "+ **Separation**: This behavior ensures that the Boid avoids getting too close to other Boids, preventing overcrowding and potential collisions. If the distance between two Boids is below a certain threshold, the Boid will steer away from its neighbor.\n",
    "  \n",
    "+ **Alignment**: The Boid adjusts its direction to align with the average heading of its neighbors. This behavior ensures that the Boid moves in a coordinated manner with the rest of the flock, matching its direction with the neighboring agents.\n",
    "\n",
    "Each Boid calculates its movement in the `step()` method. The Boid first checks its neighbors within a specified vision radius and then adjusts its velocity according to the three behaviors. The influence of each behavior is controlled by predefined weights (cohere, separate, and match factors).\n",
    "\n",
    "Once the new direction is calculated, the Boid's position is updated, and it moves accordingly in the 2D simulation space. These interactions between the Boids lead to realistic flocking behavior."
   ]
  },
  {
   "cell_type": "code",
   "execution_count": 3,
   "id": "7d3240dd",
   "metadata": {},
   "outputs": [],
   "source": [
    "class Boid(Agent):\n",
    "    \"\"\"A Boid-style flocker agent.\"\"\"\n",
    "    def __init__(self, model, speed, direction, vision, separation, cohere=0.03, separate=0.015, match=0.05):\n",
    "        \"\"\"Initialize the Boid agent.\"\"\"\n",
    "        super().__init__(model)\n",
    "        self.speed = speed\n",
    "        self.direction = direction\n",
    "        self.vision = vision\n",
    "        self.separation = separation\n",
    "        self.cohere_factor = cohere\n",
    "        self.separate_factor = separate\n",
    "        self.match_factor = match\n",
    "        self.neighbors = []\n",
    "        self.crash_count = 0  # Track the number of crashes\n",
    "\n",
    "    def step(self):\n",
    "        \"\"\"One step of the Boid's behavior and track crashes.\"\"\"\n",
    "        self.neighbors = self.model.space.get_neighbors(self.pos, self.vision, False)\n",
    "        if not self.neighbors:\n",
    "            new_pos = self.pos + self.direction * self.speed\n",
    "            self.model.space.move_agent(self, new_pos)\n",
    "            return\n",
    "\n",
    "        cohere = np.zeros(2)\n",
    "        match_vector = np.zeros(2)\n",
    "        separation_vector = np.zeros(2)\n",
    "\n",
    "        for neighbor in self.neighbors:\n",
    "            heading = self.model.space.get_heading(self.pos, neighbor.pos)\n",
    "            distance = self.model.space.get_distance(self.pos, neighbor.pos)\n",
    "\n",
    "            cohere += heading\n",
    "\n",
    "            if distance < self.separation:\n",
    "                separation_vector -= heading\n",
    "                self.crash_count += 1\n",
    "\n",
    "            match_vector += neighbor.direction\n",
    "\n",
    "        n = len(self.neighbors)\n",
    "        cohere *= self.cohere_factor\n",
    "        separation_vector *= self.separate_factor\n",
    "        match_vector *= self.match_factor\n",
    "\n",
    "        self.direction += (cohere + separation_vector + match_vector) / n\n",
    "        self.direction /= np.linalg.norm(self.direction)\n",
    "\n",
    "        new_pos = self.pos + self.direction * self.speed\n",
    "        self.model.space.move_agent(self, new_pos)"
   ]
  },
  {
   "cell_type": "markdown",
   "id": "2be13136",
   "metadata": {},
   "source": [
    "### - **BoidFlockers Model Class and Data Collection**"
   ]
  },
  {
   "cell_type": "markdown",
   "id": "e11f3c7d",
   "metadata": {},
   "source": [
    "The **BoidFlockers** model represents the environment in which the Boid agents interact. This class handles the creation of Boid agents, their placement within the simulation space, and the overall management of the simulation.\n",
    "\n",
    "+ **Population**: The model starts with a specified number of Boid agents, and each agent is placed randomly within the 2D space.\n",
    "  \n",
    "+ **Vision**: Each Boid has a vision radius, which defines the area in which it can detect other Boids. Boids within this radius are considered neighbors and influence the Boid's behavior.\n",
    "\n",
    "+ **Space**: The simulation occurs in a continuous 2D space, represented by a grid that allows the Boids to move around. The space is \"toroidal,\" meaning that the edges wrap around, allowing Boids to exit from one side and reappear on the other side of the grid.\n",
    "\n",
    "+ **Data Collection**: The model collects data on the number of crashes (collisions) between the Boids. This is done through the **DataCollector** from the Mesa framework, which tracks the `crash_count` for each Boid at each simulation step.\n",
    "\n",
    "+ **Step Method**: The `step()` method is responsible for advancing the simulation by one time step. In this method, all Boid agents are activated in random order, and each Boid performs its movement and behavior calculation. After each step, the **DataCollector** gathers information on the number of crashes between Boids.\n",
    "\n",
    "This model allows for the dynamic interaction between Boid agents, and it simulates the collective behavior of the flock over time."
   ]
  },
  {
   "cell_type": "code",
   "execution_count": 4,
   "id": "96b45eb2",
   "metadata": {},
   "outputs": [],
   "source": [
    "class BoidFlockers(Model):\n",
    "    \"\"\"Boids model with different behaviors.\"\"\"\n",
    "    def __init__(self, population=100, width=100, height=100, speed=1, vision=10, separation=2, cohere=0.03, separate=0.015, match=0.05, seed=None):\n",
    "        super().__init__(seed=seed)\n",
    "        self.population = population\n",
    "        self.vision = vision\n",
    "        self.speed = speed\n",
    "        self.separation = separation\n",
    "        self.space = ContinuousSpace(width, height, torus=True)\n",
    "        self.factors = {\"cohere\": cohere, \"separate\": separate, \"match\": match}\n",
    "        self.make_agents()\n",
    "\n",
    "        # Set up the data collector to track the number of crashes\n",
    "        self.datacollector = DataCollector(\n",
    "            agent_reporters={\"Crashes\": \"crash_count\"} # Collect crash data from each agent\n",
    "        )\n",
    "\n",
    "    def make_agents(self):\n",
    "        \"\"\"Create and place Boid agents randomly.\"\"\"\n",
    "        for _ in range(self.population):\n",
    "            x = self.random.random() * self.space.x_max\n",
    "            y = self.random.random() * self.space.y_max\n",
    "            pos = np.array((x, y))\n",
    "            direction = np.random.random(2) * 2 - 1\n",
    "            direction /= np.linalg.norm(direction)\n",
    "            boid = Boid(self, self.speed, direction, self.vision, self.separation, **self.factors)\n",
    "            self.space.place_agent(boid, pos)\n",
    "\n",
    "    def step(self):\n",
    "        \"\"\"Perform one step of the simulation.\"\"\"\n",
    "        self.agents.shuffle_do(\"step\")\n",
    "        self.datacollector.collect(self) # Collect the crash data at each step"
   ]
  },
  {
   "cell_type": "markdown",
   "id": "b8bba724",
   "metadata": {},
   "source": [
    "### - **Set up Parameters for the Batch Run**"
   ]
  },
  {
   "cell_type": "markdown",
   "id": "f21e86d5",
   "metadata": {},
   "source": [
    "This section defines the parameters for the Boid simulation. It includes the weights for the behaviors **Cohesion**, **Separation**, and **Alignment**, which control the influence of each behavior on the Boid’s movement. Additional parameters, such as the **population** of Boids, their **speed**, **vision** radius, and **separation** distance, are also set. These parameters are used in a batch run to test different combinations and analyze their impact on the Boid interactions and the number of crashes."
   ]
  },
  {
   "cell_type": "code",
   "execution_count": 5,
   "id": "6a6b366d",
   "metadata": {},
   "outputs": [],
   "source": [
    "# Define parameter grid for different behavior weights\n",
    "cohere_weights = [0.01, 0.03, 0.05]\n",
    "separate_weights = [0.01, 0.015, 0.03]\n",
    "match_weights = [0.01, 0.05, 0.1]\n",
    "\n",
    "# Set up parameters for batch run\n",
    "parameters = {\n",
    "    \"population\": 100,\n",
    "    \"speed\": 5,\n",
    "    \"vision\": 10,\n",
    "    \"separation\": 2,\n",
    "    \"cohere\": cohere_weights,\n",
    "    \"separate\": separate_weights,\n",
    "    \"match\": match_weights,\n",
    "}"
   ]
  },
  {
   "cell_type": "markdown",
   "id": "a558e141",
   "metadata": {},
   "source": [
    "### - Run the Batch Simulation"
   ]
  },
  {
   "cell_type": "markdown",
   "id": "de6af57d",
   "metadata": {},
   "source": [
    "In this section, the batch simulation is executed. Multiple runs are performed with varying combinations of the behavior weights (Cohesion, Separation, Alignment). Each run simulates the interaction of Boids over a set number of steps. The batch_run function from the Mesa library is used to automate this process, collecting data on the number of crashes for each combination of parameters. The simulation results are stored for further analysis, allowing us to observe how different parameter settings affect the Boid interactions."
   ]
  },
  {
   "cell_type": "code",
   "execution_count": 6,
   "id": "43fa380c",
   "metadata": {},
   "outputs": [
    {
     "data": {
      "application/vnd.jupyter.widget-view+json": {
       "model_id": "6ac9149284d34b22ac76353a3ec21837",
       "version_major": 2,
       "version_minor": 0
      },
      "text/plain": [
       "  0%|          | 0/270 [00:00<?, ?it/s]"
      ]
     },
     "metadata": {},
     "output_type": "display_data"
    }
   ],
   "source": [
    "# Run the batch simulation\n",
    "batch_run_results = batch_run(\n",
    "    BoidFlockers,\n",
    "    parameters,\n",
    "    iterations=10,  # Number of runs per parameter combination\n",
    "    max_steps=100,  # Maximum number of steps for each run\n",
    "    display_progress=True,  # Show progress during the batch run\n",
    ")"
   ]
  },
  {
   "cell_type": "markdown",
   "id": "2fa5c313",
   "metadata": {},
   "source": [
    "### - Extract and Analyze the Collected Data"
   ]
  },
  {
   "cell_type": "markdown",
   "id": "ebdaeb5e",
   "metadata": {},
   "source": [
    "After running the batch simulation, the collected data is extracted for analysis. The DataCollector gathers information about the number of crashes (collisions) between Boids during each simulation run. This data is stored and then converted into a pandas DataFrame. The data is grouped by the parameter combinations (Cohesion, Separation, Alignment) and the average crash count for each combination is calculated. This allows for an analysis of how different behavior weights impact the number of crashes in the simulation."
   ]
  },
  {
   "cell_type": "code",
   "execution_count": 7,
   "id": "bf52233a-df67-4543-b294-182100de2a1f",
   "metadata": {},
   "outputs": [
    {
     "name": "stdout",
     "output_type": "stream",
     "text": [
      "Collected Data (first few rows):\n",
      "   cohere  separate  match  Crashes\n",
      "0    0.01      0.01   0.01       10\n",
      "1    0.01      0.01   0.01        8\n",
      "2    0.01      0.01   0.01       14\n",
      "3    0.01      0.01   0.01       16\n",
      "4    0.01      0.01   0.01       22\n",
      "Grouped Data (average crashes by parameter combination):\n",
      "                       Crashes\n",
      "cohere separate match         \n",
      "0.01   0.010    0.01    14.313\n",
      "                0.05    19.417\n",
      "                0.10    32.362\n",
      "       0.015    0.01    14.176\n",
      "                0.05    18.700\n"
     ]
    }
   ],
   "source": [
    "# Collect the results from the batch run and convert it to a pandas DataFrame\n",
    "import pandas as pd\n",
    "df = pd.DataFrame(batch_run_results)\n",
    "\n",
    "# Extract the collected crash data\n",
    "data = df[['cohere', 'separate', 'match', 'Crashes']]\n",
    "\n",
    "# Print out the collected data to verify if crashes are being tracked\n",
    "print(\"Collected Data (first few rows):\")\n",
    "print(data.head())  # Check the first few rows of the collected data\n",
    "\n",
    "# Group data by parameter combinations and calculate average crash count\n",
    "grouped_data = data.groupby([\"cohere\", \"separate\", \"match\"]).mean()\n",
    "\n",
    "# Print the grouped data to ensure it's being computed correctly\n",
    "print(\"Grouped Data (average crashes by parameter combination):\")\n",
    "print(grouped_data.head())  # Check the grouped data\n",
    "\n"
   ]
  },
  {
   "cell_type": "markdown",
   "id": "712dfe4e",
   "metadata": {},
   "source": [
    "### - **Visualize the Results**"
   ]
  },
  {
   "cell_type": "markdown",
   "id": "e158b79f",
   "metadata": {},
   "source": [
    "In this section, the results of the batch simulation are visualized. A bar chart is created to display the average number of crashes for each combination of behavior weights (Cohesion, Separation, Alignment). The x-axis represents the different parameter combinations, while the y-axis shows the corresponding average crash count. This visualization helps in understanding how varying the weights of the Boid behaviors influences the frequency of collisions."
   ]
  },
  {
   "cell_type": "code",
   "execution_count": 13,
   "id": "40604f25",
   "metadata": {},
   "outputs": [
    {
     "data": {
      "image/png": "[encoded data removed]",
      "text/plain": [
       "<Figure size 1000x600 with 1 Axes>"
      ]
     },
     "metadata": {},
     "output_type": "display_data"
    }
   ],
   "source": [
    "# 6. **Visualize the Results**\n",
    "# Plot the results\n",
    "plt.figure(figsize=(10, 6))\n",
    "\n",
    "# Check if there are any meaningful \"Crashes\" values\n",
    "if grouped_data[\"Crashes\"].max() > 0:\n",
    "    for (cohere, separate, match), group in grouped_data.groupby([\"cohere\", \"separate\", \"match\"]):\n",
    "        # Ensure that the \"Crashes\" column is numeric\n",
    "        if not pd.api.types.is_numeric_dtype(group[\"Crashes\"]):\n",
    "            continue  # Skip this group if data is not numeric\n",
    "\n",
    "        # Create a label for each plot\n",
    "        label = f'Cohere: {cohere}, Separate: {separate}, Match: {match}'\n",
    "\n",
    "        # Plot the data as a bar chart for clarity\n",
    "        plt.bar(label, group[\"Crashes\"].iloc[0])  # Use the first (and only) crash value for each group\n",
    "\n",
    "    plt.title(\"Effect of Behavior Weights on Boid Crashes Over Time\")\n",
    "    plt.xlabel(\"Behavior Parameter Combinations\")\n",
    "    plt.ylabel(\"Average Crashes\")\n",
    "    plt.xticks(rotation=90)  # Rotate x-axis labels for better visibility\n",
    "    plt.tight_layout()\n",
    "    plt.show()\n",
    "else:\n",
    "    print(\"No meaningful data to plot, crashes are all zero.\")\n"
   ]
  },
  {
   "cell_type": "markdown",
   "id": "a75585e8",
   "metadata": {},
   "source": [
    "### Conclusion"
   ]
  },
  {
   "cell_type": "markdown",
   "id": "11751519",
   "metadata": {},
   "source": [
    "The results of the simulation demonstrate that the weights assigned to the behaviors of **Cohesion**, **Separation**, and **Alignment** significantly affect the dynamics of the Boid agents and the frequency of crashes. Increasing the weight of **Separation** and **Alignment** generally leads to fewer collisions, as Boids maintain a greater distance from each other and move in a more coordinated manner. On the other hand, increasing **Cohesion** tends to result in more crashes, as Boids are drawn closer together, increasing the likelihood of collisions.\n",
    "\n",
    "The findings emphasize the importance of balancing the different behaviors to achieve the desired flocking dynamics, where Boids can move cohesively without overcrowding or colliding. Adjusting these behavior weights offers valuable insights into how multi-agent systems can be fine-tuned to optimize collective behavior."
   ]
  }
 ],
 "metadata": {
  "kernelspec": {
   "display_name": "venv",
   "language": "python",
   "name": "python3"
  },
  "language_info": {
   "codemirror_mode": {
    "name": "ipython",
    "version": 3
   },
   "file_extension": ".py",
   "mimetype": "text/x-python",
   "name": "python",
   "nbconvert_exporter": "python",
   "pygments_lexer": "ipython3",
   "version": "3.12.4"
  }
 },
 "nbformat": 4,
 "nbformat_minor": 5
}
